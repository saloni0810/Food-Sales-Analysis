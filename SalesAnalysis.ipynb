{
 "cells": [
  {
   "cell_type": "code",
   "execution_count": 5,
   "id": "ed341680-9ba0-46e1-8f56-b72acb95c5d0",
   "metadata": {},
   "outputs": [
    {
     "data": {
      "text/html": [
       "\n",
       "            <div>\n",
       "                <p><b>SparkSession - in-memory</b></p>\n",
       "                \n",
       "        <div>\n",
       "            <p><b>SparkContext</b></p>\n",
       "\n",
       "            <p><a href=\"http://04674acf0cd1:4040\">Spark UI</a></p>\n",
       "\n",
       "            <dl>\n",
       "              <dt>Version</dt>\n",
       "                <dd><code>v3.3.0</code></dd>\n",
       "              <dt>Master</dt>\n",
       "                <dd><code>local[*]</code></dd>\n",
       "              <dt>AppName</dt>\n",
       "                <dd><code>Sales Analysis</code></dd>\n",
       "            </dl>\n",
       "        </div>\n",
       "        \n",
       "            </div>\n",
       "        "
      ],
      "text/plain": [
       "<pyspark.sql.session.SparkSession at 0x79a7443d9420>"
      ]
     },
     "execution_count": 5,
     "metadata": {},
     "output_type": "execute_result"
    }
   ],
   "source": [
    "from pyspark.sql import SparkSession\n",
    "\n",
    "spark = (\n",
    "    SparkSession\n",
    "    .builder\n",
    "    .appName(\"Sales Analysis\")\n",
    "    .master(\"local[*]\")\n",
    "    .getOrCreate()\n",
    ")\n",
    "spark"
   ]
  },
  {
   "cell_type": "code",
   "execution_count": 10,
   "id": "06bdc3a9-0458-4bf0-8085-4ebc1eca856e",
   "metadata": {},
   "outputs": [
    {
     "name": "stdout",
     "output_type": "stream",
     "text": [
      "root\n",
      " |-- product_id: integer (nullable = true)\n",
      " |-- customer_id: string (nullable = true)\n",
      " |-- order_date: date (nullable = true)\n",
      " |-- location: string (nullable = true)\n",
      " |-- source_order: string (nullable = true)\n",
      "\n"
     ]
    }
   ],
   "source": [
    "from pyspark.sql.types import StructType, StructField, IntegerType, StringType, DateType\n",
    "schema=StructType([\n",
    "    StructField(\"product_id\", IntegerType(), True),\n",
    "    StructField(\"customer_id\", StringType(), True),\n",
    "    StructField(\"order_date\", DateType(), True),\n",
    "    StructField(\"location\", StringType(), True),\n",
    "    StructField(\"source_order\", StringType(), True)\n",
    "])\n",
    "\n",
    "sales_df = spark.read.format(\"csv\").schema(schema).load(\"data/input/sales.csv\")\n",
    "sales_df.printSchema()"
   ]
  },
  {
   "cell_type": "code",
   "execution_count": 11,
   "id": "36b8ea2d-9733-4cbc-b272-da3228044f0b",
   "metadata": {},
   "outputs": [
    {
     "name": "stdout",
     "output_type": "stream",
     "text": [
      "+----------+-----------+----------+--------+------------+\n",
      "|product_id|customer_id|order_date|location|source_order|\n",
      "+----------+-----------+----------+--------+------------+\n",
      "|         1|          A|2023-01-01|   India|      Swiggy|\n",
      "|         2|          A|2022-01-01|   India|      Swiggy|\n",
      "|         2|          A|2023-01-07|   India|      Swiggy|\n",
      "|         3|          A|2023-01-10|   India|  Restaurant|\n",
      "|         3|          A|2022-01-11|   India|      Swiggy|\n",
      "|         3|          A|2023-01-11|   India|  Restaurant|\n",
      "|         2|          B|2022-02-01|   India|      Swiggy|\n",
      "|         2|          B|2023-01-02|   India|      Swiggy|\n",
      "|         1|          B|2023-01-04|   India|  Restaurant|\n",
      "|         1|          B|2023-02-11|   India|      Swiggy|\n",
      "|         3|          B|2023-01-16|   India|      zomato|\n",
      "|         3|          B|2022-02-01|   India|      zomato|\n",
      "|         3|          C|2023-01-01|   India|      zomato|\n",
      "|         1|          C|2023-01-01|      UK|      Swiggy|\n",
      "|         6|          C|2022-01-07|      UK|      zomato|\n",
      "|         3|          D|2023-02-16|      UK|  Restaurant|\n",
      "|         5|          D|2022-02-01|      UK|      zomato|\n",
      "|         3|          E|2023-02-01|      UK|  Restaurant|\n",
      "|         4|          E|2023-02-01|      UK|      Swiggy|\n",
      "|         4|          E|2023-02-07|      UK|  Restaurant|\n",
      "+----------+-----------+----------+--------+------------+\n",
      "only showing top 20 rows\n",
      "\n"
     ]
    }
   ],
   "source": [
    "sales_df.show()"
   ]
  },
  {
   "cell_type": "code",
   "execution_count": 16,
   "id": "8fc94dbb-54a2-4c6a-914e-c83e431419c3",
   "metadata": {},
   "outputs": [
    {
     "name": "stdout",
     "output_type": "stream",
     "text": [
      "+----------+-----------+----------+--------+------------+----------+-----------+-------------+\n",
      "|product_id|customer_id|order_date|location|source_order|order_year|order_month|order_quarter|\n",
      "+----------+-----------+----------+--------+------------+----------+-----------+-------------+\n",
      "|         1|          A|2023-01-01|   India|      Swiggy|      2023|          1|            1|\n",
      "|         2|          A|2022-01-01|   India|      Swiggy|      2022|          1|            1|\n",
      "|         2|          A|2023-01-07|   India|      Swiggy|      2023|          1|            1|\n",
      "|         3|          A|2023-01-10|   India|  Restaurant|      2023|          1|            1|\n",
      "|         3|          A|2022-01-11|   India|      Swiggy|      2022|          1|            1|\n",
      "|         3|          A|2023-01-11|   India|  Restaurant|      2023|          1|            1|\n",
      "|         2|          B|2022-02-01|   India|      Swiggy|      2022|          2|            1|\n",
      "|         2|          B|2023-01-02|   India|      Swiggy|      2023|          1|            1|\n",
      "|         1|          B|2023-01-04|   India|  Restaurant|      2023|          1|            1|\n",
      "|         1|          B|2023-02-11|   India|      Swiggy|      2023|          2|            1|\n",
      "|         3|          B|2023-01-16|   India|      zomato|      2023|          1|            1|\n",
      "|         3|          B|2022-02-01|   India|      zomato|      2022|          2|            1|\n",
      "|         3|          C|2023-01-01|   India|      zomato|      2023|          1|            1|\n",
      "|         1|          C|2023-01-01|      UK|      Swiggy|      2023|          1|            1|\n",
      "|         6|          C|2022-01-07|      UK|      zomato|      2022|          1|            1|\n",
      "|         3|          D|2023-02-16|      UK|  Restaurant|      2023|          2|            1|\n",
      "|         5|          D|2022-02-01|      UK|      zomato|      2022|          2|            1|\n",
      "|         3|          E|2023-02-01|      UK|  Restaurant|      2023|          2|            1|\n",
      "|         4|          E|2023-02-01|      UK|      Swiggy|      2023|          2|            1|\n",
      "|         4|          E|2023-02-07|      UK|  Restaurant|      2023|          2|            1|\n",
      "+----------+-----------+----------+--------+------------+----------+-----------+-------------+\n",
      "only showing top 20 rows\n",
      "\n"
     ]
    }
   ],
   "source": [
    "#Derive year, month, quarter\n",
    "\n",
    "from pyspark.sql.functions import *\n",
    "sales_df = sales_df.withColumn(\"order_year\", year(sales_df.order_date))\n",
    "sales_df = sales_df.withColumn(\"order_month\", month(sales_df.order_date))\n",
    "sales_df = sales_df.withColumn(\"order_quarter\", quarter(sales_df.order_date))\n",
    "sales_df.show()"
   ]
  },
  {
   "cell_type": "code",
   "execution_count": 19,
   "id": "5d4b3587-b97e-47ff-82ac-8c85c96b0383",
   "metadata": {},
   "outputs": [
    {
     "name": "stdout",
     "output_type": "stream",
     "text": [
      "root\n",
      " |-- product_id: integer (nullable = true)\n",
      " |-- product_name: string (nullable = true)\n",
      " |-- price: string (nullable = true)\n",
      "\n"
     ]
    }
   ],
   "source": [
    "#create menu dataframe\n",
    "from pyspark.sql.types import StructType, StructField, IntegerType, StringType, DateType\n",
    "schema_menu=StructType([\n",
    "    StructField(\"product_id\", IntegerType(), True),\n",
    "    StructField(\"product_name\", StringType(), True),\n",
    "    StructField(\"price\", StringType(), True),\n",
    "])\n",
    "\n",
    "menu_df = spark.read.format(\"csv\").schema(schema_menu).load(\"data/input/menu.csv\")\n",
    "menu_df.printSchema()"
   ]
  },
  {
   "cell_type": "code",
   "execution_count": 20,
   "id": "d3e677a2-3a7a-49f4-b6c3-3f4c29c0a86c",
   "metadata": {},
   "outputs": [
    {
     "name": "stdout",
     "output_type": "stream",
     "text": [
      "+----------+------------+-----+\n",
      "|product_id|product_name|price|\n",
      "+----------+------------+-----+\n",
      "|         1|       PIZZA|  100|\n",
      "|         2|     Chowmin|  150|\n",
      "|         3|    sandwich|  120|\n",
      "|         4|        Dosa|  110|\n",
      "|         5|     Biryani|   80|\n",
      "|         6|       Pasta|  180|\n",
      "+----------+------------+-----+\n",
      "\n"
     ]
    }
   ],
   "source": [
    "menu_df.show()"
   ]
  },
  {
   "cell_type": "code",
   "execution_count": 24,
   "id": "b6a81d49-7d2b-44a3-aa72-832bf33a293f",
   "metadata": {},
   "outputs": [
    {
     "name": "stdout",
     "output_type": "stream",
     "text": [
      "+-----------+-----------+\n",
      "|customer_id|total_price|\n",
      "+-----------+-----------+\n",
      "|          A|     4260.0|\n",
      "|          B|     4440.0|\n",
      "|          C|     2400.0|\n",
      "|          D|     1200.0|\n",
      "|          E|     2040.0|\n",
      "+-----------+-----------+\n",
      "\n"
     ]
    }
   ],
   "source": [
    "#Total Amount spent by each customer\n",
    "total_amount_cust = sales_df.join(menu_df, \"product_id\").groupBy(\"customer_id\").agg(sum(\"price\").alias(\"total_price\")).orderBy(\"customer_id\")\n",
    "total_amount_cust.show()"
   ]
  },
  {
   "cell_type": "code",
   "execution_count": 25,
   "id": "f3f13f29-6189-476a-869c-0341ab13ebda",
   "metadata": {},
   "outputs": [
    {
     "name": "stdout",
     "output_type": "stream",
     "text": [
      "+------------+-----------+\n",
      "|product_name|total_price|\n",
      "+------------+-----------+\n",
      "|     Biryani|      480.0|\n",
      "|       Pasta|     1080.0|\n",
      "|        Dosa|     1320.0|\n",
      "|       PIZZA|     2100.0|\n",
      "|     Chowmin|     3600.0|\n",
      "|    sandwich|     5760.0|\n",
      "+------------+-----------+\n",
      "\n"
     ]
    }
   ],
   "source": [
    "#Total Amount spent by each food category\n",
    "total_amount_category = sales_df.join(menu_df, \"product_id\").groupBy(\"product_name\").agg(sum(\"price\").alias(\"total_price\")).orderBy(\"total_price\")\n",
    "total_amount_category.show()"
   ]
  },
  {
   "cell_type": "code",
   "execution_count": 27,
   "id": "da531884-97b2-4247-9b6d-aba47488f996",
   "metadata": {},
   "outputs": [
    {
     "name": "stdout",
     "output_type": "stream",
     "text": [
      "+-----------+-----------+\n",
      "|order_month|total_price|\n",
      "+-----------+-----------+\n",
      "|          1|     2960.0|\n",
      "|          2|     2730.0|\n",
      "|          3|      910.0|\n",
      "|          5|     2960.0|\n",
      "|          6|     2960.0|\n",
      "|          7|      910.0|\n",
      "|         11|      910.0|\n",
      "+-----------+-----------+\n",
      "\n"
     ]
    }
   ],
   "source": [
    "#Total Amount of sales in each month\n",
    "total_amount_month = sales_df.join(menu_df, \"product_id\").groupBy(\"order_month\").agg(sum(\"price\").alias(\"total_price\")).orderBy(\"order_month\")\n",
    "total_amount_month.show()"
   ]
  },
  {
   "cell_type": "code",
   "execution_count": 28,
   "id": "45eb89ce-2ce4-4219-86df-39d01fe9d687",
   "metadata": {},
   "outputs": [
    {
     "name": "stdout",
     "output_type": "stream",
     "text": [
      "+----------+-----------+\n",
      "|order_year|total_price|\n",
      "+----------+-----------+\n",
      "|      2022|     4350.0|\n",
      "|      2023|     9990.0|\n",
      "+----------+-----------+\n",
      "\n"
     ]
    }
   ],
   "source": [
    "#Yearly Sales\n",
    "total_amount_year = sales_df.join(menu_df, \"product_id\").groupBy(\"order_year\").agg(sum(\"price\").alias(\"total_price\")).orderBy(\"order_year\")\n",
    "total_amount_year.show()"
   ]
  },
  {
   "cell_type": "code",
   "execution_count": 32,
   "id": "8d6a3640-6f07-49f4-8cbc-99a2c9efffcd",
   "metadata": {},
   "outputs": [
    {
     "name": "stdout",
     "output_type": "stream",
     "text": [
      "+-------------+----------+-----------+\n",
      "|order_quarter|order_year|total_price|\n",
      "+-------------+----------+-----------+\n",
      "|            1|      2022|     2150.0|\n",
      "|            2|      2022|     1440.0|\n",
      "|            3|      2022|      380.0|\n",
      "|            4|      2022|      380.0|\n",
      "|            1|      2023|     4450.0|\n",
      "|            2|      2023|     4480.0|\n",
      "|            3|      2023|      530.0|\n",
      "|            4|      2023|      530.0|\n",
      "+-------------+----------+-----------+\n",
      "\n"
     ]
    }
   ],
   "source": [
    "#Quarterly Sales\n",
    "total_amount_quarter = sales_df.join(menu_df, \"product_id\").groupBy(\"order_quarter\",\"order_year\").agg(sum(\"price\").alias(\"total_price\")).orderBy(\"order_year\",\"order_quarter\")\n",
    "total_amount_quarter.show()"
   ]
  },
  {
   "cell_type": "code",
   "execution_count": 33,
   "id": "e6b55aed-4693-4ebb-bc91-08ad245b28b4",
   "metadata": {},
   "outputs": [
    {
     "name": "stdout",
     "output_type": "stream",
     "text": [
      "+------------+-----+\n",
      "|product_name|Count|\n",
      "+------------+-----+\n",
      "|       Pasta|    6|\n",
      "|       PIZZA|   21|\n",
      "|    sandwich|   48|\n",
      "|     Biryani|    6|\n",
      "|     Chowmin|   24|\n",
      "|        Dosa|   12|\n",
      "+------------+-----+\n",
      "\n"
     ]
    }
   ],
   "source": [
    "#How many times each product has been purchased\n",
    "product_purchase_cnt = sales_df.join(menu_df, \"product_id\").groupBy(\"product_name\").agg(count(\"product_id\").alias(\"Count\"))\n",
    "product_purchase_cnt.show()"
   ]
  },
  {
   "cell_type": "code",
   "execution_count": 40,
   "id": "d3e6e71f-13c3-4f0e-9386-946703d40994",
   "metadata": {},
   "outputs": [
    {
     "name": "stdout",
     "output_type": "stream",
     "text": [
      "+------------+-----+\n",
      "|product_name|Count|\n",
      "+------------+-----+\n",
      "|    sandwich|   48|\n",
      "|     Chowmin|   24|\n",
      "|       PIZZA|   21|\n",
      "|        Dosa|   12|\n",
      "|       Pasta|    6|\n",
      "+------------+-----+\n",
      "\n"
     ]
    }
   ],
   "source": [
    "#Top 5 ordered items\n",
    "top_5_orders = sales_df.join(menu_df, \"product_id\").groupBy(\"product_name\").agg(count(\"product_id\").alias(\"Count\")).orderBy(\"Count\",ascending=0).limit(5)\n",
    "top_5_orders.show()"
   ]
  },
  {
   "cell_type": "code",
   "execution_count": 41,
   "id": "34d6311e-b0af-439b-9cdf-c7914452feab",
   "metadata": {},
   "outputs": [
    {
     "name": "stdout",
     "output_type": "stream",
     "text": [
      "+------------+-----+\n",
      "|product_name|Count|\n",
      "+------------+-----+\n",
      "|    sandwich|   48|\n",
      "+------------+-----+\n",
      "\n"
     ]
    }
   ],
   "source": [
    "#Top ordered Item\n",
    "top_order = sales_df.join(menu_df, \"product_id\").groupBy(\"product_name\").agg(count(\"product_id\").alias(\"Count\")).orderBy(\"Count\",ascending=0).limit(1)\n",
    "top_order.show()"
   ]
  },
  {
   "cell_type": "code",
   "execution_count": 53,
   "id": "672f3f21-6f77-402a-8f0b-00efadf8fccd",
   "metadata": {},
   "outputs": [
    {
     "name": "stdout",
     "output_type": "stream",
     "text": [
      "+-----------+-----+\n",
      "|customer_id|Count|\n",
      "+-----------+-----+\n",
      "|          D|    1|\n",
      "|          C|    3|\n",
      "|          E|    5|\n",
      "|          B|    6|\n",
      "|          A|    6|\n",
      "+-----------+-----+\n",
      "\n"
     ]
    }
   ],
   "source": [
    "#Frequency of customer visited restaurant\n",
    "customer_frequency = sales_df.filter(sales_df.source_order == \"Restaurant\").groupBy(\"customer_id\").agg(countDistinct(\"order_date\").alias(\"Count\")).orderBy(\"Count\")\n",
    "customer_frequency.show()"
   ]
  },
  {
   "cell_type": "code",
   "execution_count": 43,
   "id": "474cfad0-18d5-49d8-86d1-7e9d14943976",
   "metadata": {},
   "outputs": [
    {
     "name": "stdout",
     "output_type": "stream",
     "text": [
      "+--------+-----------+\n",
      "|location|total_price|\n",
      "+--------+-----------+\n",
      "|     USA|     2460.0|\n",
      "|   India|     4860.0|\n",
      "|      UK|     7020.0|\n",
      "+--------+-----------+\n",
      "\n"
     ]
    }
   ],
   "source": [
    "#Total sales by each country\n",
    "total_sales_country = sales_df.join(menu_df, \"product_id\").groupBy(\"location\").agg(sum(\"price\").alias(\"total_price\")).orderBy(\"total_price\")\n",
    "total_sales_country.show()"
   ]
  },
  {
   "cell_type": "code",
   "execution_count": 44,
   "id": "093e6cc6-95cc-4faa-8b6a-de45796fca53",
   "metadata": {},
   "outputs": [
    {
     "name": "stdout",
     "output_type": "stream",
     "text": [
      "+------------+-----------+\n",
      "|source_order|total_price|\n",
      "+------------+-----------+\n",
      "|  Restaurant|     3090.0|\n",
      "|      zomato|     4920.0|\n",
      "|      Swiggy|     6330.0|\n",
      "+------------+-----------+\n",
      "\n"
     ]
    }
   ],
   "source": [
    "#Total sales by order_source\n",
    "total_sales_source = sales_df.join(menu_df, \"product_id\").groupBy(\"source_order\").agg(sum(\"price\").alias(\"total_price\")).orderBy(\"total_price\")\n",
    "total_sales_source.show()"
   ]
  }
 ],
 "metadata": {
  "kernelspec": {
   "display_name": "Python 3 (ipykernel)",
   "language": "python",
   "name": "python3"
  },
  "language_info": {
   "codemirror_mode": {
    "name": "ipython",
    "version": 3
   },
   "file_extension": ".py",
   "mimetype": "text/x-python",
   "name": "python",
   "nbconvert_exporter": "python",
   "pygments_lexer": "ipython3",
   "version": "3.10.18"
  }
 },
 "nbformat": 4,
 "nbformat_minor": 5
}
